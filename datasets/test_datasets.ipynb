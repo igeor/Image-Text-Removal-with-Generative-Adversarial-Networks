{
 "metadata": {
  "language_info": {
   "codemirror_mode": {
    "name": "ipython",
    "version": 3
   },
   "file_extension": ".py",
   "mimetype": "text/x-python",
   "name": "python",
   "nbconvert_exporter": "python",
   "pygments_lexer": "ipython3",
   "version": "3.6.9"
  },
  "orig_nbformat": 2,
  "kernelspec": {
   "name": "pythonjvsc74a57bd05b060cddb4cf56486a01ae1b618b2d74e063d91b6e79f30e3bcabf21dbdb2c81",
   "display_name": "Python 3.6.9  ('virtual_environment': venv)"
  },
  "metadata": {
   "interpreter": {
    "hash": "5b060cddb4cf56486a01ae1b618b2d74e063d91b6e79f30e3bcabf21dbdb2c81"
   }
  }
 },
 "nbformat": 4,
 "nbformat_minor": 2,
 "cells": [
  {
   "source": [
    "* KonIQDataset (no mask)"
   ],
   "cell_type": "markdown",
   "metadata": {}
  },
  {
   "cell_type": "code",
   "execution_count": 6,
   "metadata": {},
   "outputs": [
    {
     "output_type": "execute_result",
     "data": {
      "text/plain": [
       "(torch.Size([1, 3, 128, 128]), torch.Size([1, 3, 128, 128]))"
      ]
     },
     "metadata": {},
     "execution_count": 6
    }
   ],
   "source": [
    "from KonIQDataset import *\n",
    "from torch.utils.data import DataLoader\n",
    "import torchvision\n",
    "\n",
    "transform = torchvision.transforms.Compose([\n",
    "\ttorchvision.transforms.ToTensor(),\n",
    "\ttorchvision.transforms.Resize((128,128)),\n",
    "\ttorchvision.transforms.Normalize(mean=[0.485, 0.456, 0.406],\n",
    "                         std=[0.229, 0.224, 0.225])\n",
    "])\n",
    "\n",
    "dataset = KonIQDataset('/home/igeorvasilis/sdb/KoniQ_dataset/B/train', transform=transform)\n",
    "dataloader = DataLoader(dataset, batch_size=1, shuffle=True)\n",
    "real, cond = next(iter(dataloader))\n",
    "real.shape , cond.shape"
   ]
  },
  {
   "source": [
    "* KonIQDataset (mask)"
   ],
   "cell_type": "markdown",
   "metadata": {}
  },
  {
   "cell_type": "code",
   "execution_count": 1,
   "metadata": {},
   "outputs": [
    {
     "output_type": "stream",
     "name": "stdout",
     "text": [
      "torch.Size([3, 128, 128]) torch.Size([3, 128, 128]) torch.Size([1, 128, 128])\n"
     ]
    },
    {
     "output_type": "execute_result",
     "data": {
      "text/plain": [
       "(torch.Size([1, 3, 128, 128]), torch.Size([1, 4, 128, 128]))"
      ]
     },
     "metadata": {},
     "execution_count": 1
    }
   ],
   "source": [
    "from KonIQDataset import *\n",
    "from torch.utils.data import DataLoader\n",
    "import torchvision\n",
    "\n",
    "transform = torchvision.transforms.Compose([\n",
    "\ttorchvision.transforms.ToTensor(),\n",
    "\ttorchvision.transforms.Resize((128,128)),\n",
    "\ttorchvision.transforms.Normalize(mean=[0.485, 0.456, 0.406],\n",
    "                         std=[0.229, 0.224, 0.225])\n",
    "])\n",
    "\n",
    "dataset = KonIQDataset('/home/igeorvasilis/sdb/KoniQ_dataset/B/train', transform=transform, mask_in=True)\n",
    "dataloader = DataLoader(dataset, batch_size=1, shuffle=True)\n",
    "real, cond = next(iter(dataloader))\n",
    "real.shape , cond.shape"
   ]
  },
  {
   "cell_type": "code",
   "execution_count": null,
   "metadata": {},
   "outputs": [],
   "source": []
  }
 ]
}